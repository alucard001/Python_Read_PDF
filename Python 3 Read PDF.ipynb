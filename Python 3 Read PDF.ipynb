{
 "cells": [
  {
   "cell_type": "markdown",
   "metadata": {},
   "source": [
    "# How To Parse Multilingual PDF file (Chinese + English) Using Python 3 and Tika\n",
    "\n",
    "Main Reference:  https://github.com/chrismattmann/tika-python"
   ]
  },
  {
   "cell_type": "markdown",
   "metadata": {},
   "source": [
    "## Installing Tika\n",
    "\n",
    "You can run the following command: `pip install tika`"
   ]
  },
  {
   "cell_type": "code",
   "execution_count": 15,
   "metadata": {},
   "outputs": [
    {
     "name": "stdout",
     "output_type": "stream",
     "text": [
      "Collecting tika\n",
      "  Downloading https://files.pythonhosted.org/packages/10/75/b566e446ffcf292f10c8d84c15a3d91615fe3d7ca8072a17c949d4e84b66/tika-1.19.tar.gz\n",
      "Requirement already satisfied: setuptools in /root/anaconda3/envs/py36/lib/python3.6/site-packages (from tika) (41.0.1)\n",
      "Collecting requests (from tika)\n",
      "\u001b[?25l  Downloading https://files.pythonhosted.org/packages/51/bd/23c926cd341ea6b7dd0b2a00aba99ae0f828be89d72b2190f27c11d4b7fb/requests-2.22.0-py2.py3-none-any.whl (57kB)\n",
      "\u001b[K     |████████████████████████████████| 61kB 11.4MB/s eta 0:00:01\n",
      "\u001b[?25hCollecting idna<2.9,>=2.5 (from requests->tika)\n",
      "\u001b[?25l  Downloading https://files.pythonhosted.org/packages/14/2c/cd551d81dbe15200be1cf41cd03869a46fe7226e7450af7a6545bfc474c9/idna-2.8-py2.py3-none-any.whl (58kB)\n",
      "\u001b[K     |████████████████████████████████| 61kB 9.7MB/s  eta 0:00:01\n",
      "\u001b[?25hRequirement already satisfied: certifi>=2017.4.17 in /root/anaconda3/envs/py36/lib/python3.6/site-packages (from requests->tika) (2019.3.9)\n",
      "Collecting chardet<3.1.0,>=3.0.2 (from requests->tika)\n",
      "\u001b[?25l  Downloading https://files.pythonhosted.org/packages/bc/a9/01ffebfb562e4274b6487b4bb1ddec7ca55ec7510b22e4c51f14098443b8/chardet-3.0.4-py2.py3-none-any.whl (133kB)\n",
      "\u001b[K     |████████████████████████████████| 143kB 13.4MB/s eta 0:00:01\n",
      "\u001b[?25hCollecting urllib3!=1.25.0,!=1.25.1,<1.26,>=1.21.1 (from requests->tika)\n",
      "\u001b[?25l  Downloading https://files.pythonhosted.org/packages/e6/60/247f23a7121ae632d62811ba7f273d0e58972d75e58a94d329d51550a47d/urllib3-1.25.3-py2.py3-none-any.whl (150kB)\n",
      "\u001b[K     |████████████████████████████████| 153kB 26.2MB/s eta 0:00:01\n",
      "\u001b[?25hBuilding wheels for collected packages: tika\n",
      "  Building wheel for tika (setup.py) ... \u001b[?25ldone\n",
      "\u001b[?25h  Stored in directory: /root/.cache/pip/wheels/b4/db/8a/3a3f0c0725448eaa92703e3dda71e29dc13a119ff6c1036848\n",
      "Successfully built tika\n",
      "\u001b[31mERROR: textract 1.6.1 has requirement chardet==2.3.0, but you'll have chardet 3.0.4 which is incompatible.\u001b[0m\n",
      "Installing collected packages: idna, chardet, urllib3, requests, tika\n",
      "  Found existing installation: chardet 2.3.0\n",
      "    Uninstalling chardet-2.3.0:\n",
      "      Successfully uninstalled chardet-2.3.0\n",
      "Successfully installed chardet-3.0.4 idna-2.8 requests-2.22.0 tika-1.19 urllib3-1.25.3\n"
     ]
    }
   ],
   "source": [
    "# !pip install tika"
   ]
  },
  {
   "cell_type": "markdown",
   "metadata": {},
   "source": [
    "## Set the PDF file path.  The example PDF is included in this Git Repo."
   ]
  },
  {
   "cell_type": "code",
   "execution_count": null,
   "metadata": {},
   "outputs": [],
   "source": [
    "pdfFile = \"How to Extract Words from PDFs with Python.pdf\""
   ]
  },
  {
   "cell_type": "markdown",
   "metadata": {},
   "source": [
    "Initialize Tika and Tika Parser as per documentation"
   ]
  },
  {
   "cell_type": "code",
   "execution_count": 17,
   "metadata": {},
   "outputs": [],
   "source": [
    "import tika\n",
    "tika.initVM()\n",
    "from tika import parser"
   ]
  },
  {
   "cell_type": "markdown",
   "metadata": {},
   "source": [
    "Start parsing PDF file"
   ]
  },
  {
   "cell_type": "code",
   "execution_count": 18,
   "metadata": {},
   "outputs": [
    {
     "name": "stderr",
     "output_type": "stream",
     "text": [
      "2019-07-05 04:24:09,793 [MainThread  ] [INFO ]  Retrieving http://search.maven.org/remotecontent?filepath=org/apache/tika/tika-server/1.19/tika-server-1.19.jar to /tmp/tika-server.jar.\n",
      "2019-07-05 04:24:41,711 [MainThread  ] [INFO ]  Retrieving http://search.maven.org/remotecontent?filepath=org/apache/tika/tika-server/1.19/tika-server-1.19.jar.md5 to /tmp/tika-server.jar.md5.\n",
      "2019-07-05 04:24:42,380 [MainThread  ] [WARNI]  Failed to see startup log message; retrying...\n"
     ]
    },
    {
     "name": "stdout",
     "output_type": "stream",
     "text": [
      "{'Author': 'ElleryL', 'Content-Type': 'application/pdf', 'Creation-Date': '2019-07-05T03:40:18Z', 'Last-Modified': '2019-07-05T03:40:18Z', 'Last-Save-Date': '2019-07-05T03:40:18Z', 'X-Parsed-By': ['org.apache.tika.parser.DefaultParser', 'org.apache.tika.parser.pdf.PDFParser'], 'X-TIKA:parse_time_millis': '1306', 'access_permission:assemble_document': 'true', 'access_permission:can_modify': 'true', 'access_permission:can_print': 'true', 'access_permission:can_print_degraded': 'true', 'access_permission:extract_content': 'true', 'access_permission:extract_for_accessibility': 'true', 'access_permission:fill_in_form': 'true', 'access_permission:modify_annotations': 'true', 'created': '2019-07-05T03:40:18Z', 'creator': 'ElleryL', 'date': '2019-07-05T03:40:18Z', 'dc:creator': 'ElleryL', 'dc:format': 'application/pdf; version=1.5', 'dc:language': 'zh-HK', 'dcterms:created': '2019-07-05T03:40:18Z', 'dcterms:modified': '2019-07-05T03:40:18Z', 'language': 'zh-HK', 'meta:author': 'ElleryL', 'meta:creation-date': '2019-07-05T03:40:18Z', 'meta:save-date': '2019-07-05T03:40:18Z', 'modified': '2019-07-05T03:40:18Z', 'pdf:PDFVersion': '1.5', 'pdf:docinfo:created': '2019-07-05T03:40:18Z', 'pdf:docinfo:creator': 'ElleryL', 'pdf:docinfo:creator_tool': 'Microsoft® Word 2010', 'pdf:docinfo:modified': '2019-07-05T03:40:18Z', 'pdf:docinfo:producer': 'Microsoft® Word 2010', 'pdf:encrypted': 'false', 'producer': 'Microsoft® Word 2010', 'resourceName': 'How to Extract Words from PDFs with Python.pdf', 'xmp:CreatorTool': 'Microsoft® Word 2010', 'xmpTPg:NPages': '2'}\n",
      "\n",
      "\n",
      "\n",
      "\n",
      "\n",
      "\n",
      "\n",
      "\n",
      "\n",
      "\n",
      "\n",
      "\n",
      "\n",
      "\n",
      "\n",
      "\n",
      "\n",
      "\n",
      "\n",
      "\n",
      "\n",
      "\n",
      "\n",
      "\n",
      "\n",
      "\n",
      "\n",
      "\n",
      "\n",
      "\n",
      "\n",
      "\n",
      "\n",
      "\n",
      "\n",
      "\n",
      "\n",
      "\n",
      "\n",
      "\n",
      "\n",
      "\n",
      "\n",
      "\n",
      "How to Extract Words from PDFs \n",
      "\n",
      "with Python \n",
      "\n",
      "As I mentioned in my previous article: How to Connect to \n",
      "\n",
      "Google Sheets with Python, I’ve been working with a client \n",
      "\n",
      "to help them parse through hundreds of PDF files to extract \n",
      "\n",
      "keywords in order to make them searchable. \n",
      "\n",
      "Part of solving the problem was figuring out how to extract \n",
      "\n",
      "textual data from all these PDF files. You might be \n",
      "\n",
      "surprised to learn that it’s not that simple. You see, PDFs \n",
      "\n",
      "are a proprietary format by Adobe that come with their own \n",
      "\n",
      "little quirks when it comes to automating the process of \n",
      "\n",
      "extracting information from each file. \n",
      "\n",
      "Adobe：創意、行銷和文件管理解決方案 \n",
      "\n",
      "https://www.adobe.com/hk_zh/ \n",
      "\n",
      " \n",
      "\n",
      "Adobe 正在透過數位體驗改變世界。我們協助客戶建立、提供及最佳化內容和\n",
      "\n",
      "應用程式。 \n",
      "\n",
      "‎PDF 閱讀器 · ‎產品 · ‎下載和安裝說明 · ‎下載 \n",
      "\n",
      "https://medium.com/@rqaiserr/how-to-connect-to-google-sheets-with-python-83d0b96eeea6\n",
      "https://medium.com/@rqaiserr/how-to-connect-to-google-sheets-with-python-83d0b96eeea6\n",
      "Adobe：創意、行銷和文件管理解決方案https:/www.adobe.com/hk_zh/\n",
      "Adobe：創意、行銷和文件管理解決方案https:/www.adobe.com/hk_zh/\n",
      "Adobe：創意、行銷和文件管理解決方案https:/www.adobe.com/hk_zh/\n",
      "Adobe：創意、行銷和文件管理解決方案https:/www.adobe.com/hk_zh/\n",
      "https://acrobat.adobe.com/hk/zh-Hant/acrobat/pdf-reader.html\n",
      "https://www.adobe.com/hk_zh/products/catalog.html\n",
      "https://helpx.adobe.com/hk_zh/download-install.html\n",
      "https://www.adobe.com/tw/downloads.html\n",
      "\n",
      "\n",
      "Luckily, we have the right language for the job: Python. \n",
      "\n",
      "Now, I’ve made my love for Python clear: It’s easily \n",
      "\n",
      "human-readable, it has a ton of awesome libraries that \n",
      "\n",
      "allow you to do basically anything. It’s the perfect tool in \n",
      "\n",
      "your utility belt. As I’ve mentioned before, it makes you \n",
      "\n",
      "batman. \n",
      "\n",
      " \n",
      "\n",
      "https://www.python.org/\n",
      "\n",
      "\n"
     ]
    }
   ],
   "source": [
    "parsed = parser.from_file(pdfFile)\n",
    "print(parsed[\"metadata\"])\n",
    "print(parsed[\"content\"])"
   ]
  },
  {
   "cell_type": "markdown",
   "metadata": {},
   "source": [
    "Let's print out the whole output"
   ]
  },
  {
   "cell_type": "code",
   "execution_count": 22,
   "metadata": {},
   "outputs": [
    {
     "name": "stdout",
     "output_type": "stream",
     "text": [
      "{\n",
      "    \"status\": 200,\n",
      "    \"content\": \"\\n\\n\\n\\n\\n\\n\\n\\n\\n\\n\\n\\n\\n\\n\\n\\n\\n\\n\\n\\n\\n\\n\\n\\n\\n\\n\\n\\n\\n\\n\\n\\n\\n\\n\\n\\n\\n\\n\\n\\n\\n\\n\\n\\nHow to Extract Words from PDFs \\n\\nwith Python \\n\\nAs I mentioned in my previous article: How to Connect to \\n\\nGoogle Sheets with Python, I\\u2019ve been working with a client \\n\\nto help them parse through hundreds of PDF files to extract \\n\\nkeywords in order to make them searchable. \\n\\nPart of solving the problem was figuring out how to extract \\n\\ntextual data from all these PDF files. You might be \\n\\nsurprised to learn that it\\u2019s not that simple. You see, PDFs \\n\\nare a proprietary format by Adobe that come with their own \\n\\nlittle quirks when it comes to automating the process of \\n\\nextracting information from each file. \\n\\nAdobe\\uff1a\\u5275\\u610f\\u3001\\u884c\\u92b7\\u548c\\u6587\\u4ef6\\u7ba1\\u7406\\u89e3\\u6c7a\\u65b9\\u6848 \\n\\nhttps://www.adobe.com/hk_zh/ \\n\\n \\n\\nAdobe \\u6b63\\u5728\\u900f\\u904e\\u6578\\u4f4d\\u9ad4\\u9a57\\u6539\\u8b8a\\u4e16\\u754c\\u3002\\u6211\\u5011\\u5354\\u52a9\\u5ba2\\u6236\\u5efa\\u7acb\\u3001\\u63d0\\u4f9b\\u53ca\\u6700\\u4f73\\u5316\\u5167\\u5bb9\\u548c\\n\\n\\u61c9\\u7528\\u7a0b\\u5f0f\\u3002 \\n\\n\\u200ePDF \\u95b1\\u8b80\\u5668 \\u00b7 \\u200e\\u7522\\u54c1 \\u00b7 \\u200e\\u4e0b\\u8f09\\u548c\\u5b89\\u88dd\\u8aaa\\u660e \\u00b7 \\u200e\\u4e0b\\u8f09 \\n\\nhttps://medium.com/@rqaiserr/how-to-connect-to-google-sheets-with-python-83d0b96eeea6\\nhttps://medium.com/@rqaiserr/how-to-connect-to-google-sheets-with-python-83d0b96eeea6\\nAdobe\\uff1a\\u5275\\u610f\\u3001\\u884c\\u92b7\\u548c\\u6587\\u4ef6\\u7ba1\\u7406\\u89e3\\u6c7a\\u65b9\\u6848https:/www.adobe.com/hk_zh/\\nAdobe\\uff1a\\u5275\\u610f\\u3001\\u884c\\u92b7\\u548c\\u6587\\u4ef6\\u7ba1\\u7406\\u89e3\\u6c7a\\u65b9\\u6848https:/www.adobe.com/hk_zh/\\nAdobe\\uff1a\\u5275\\u610f\\u3001\\u884c\\u92b7\\u548c\\u6587\\u4ef6\\u7ba1\\u7406\\u89e3\\u6c7a\\u65b9\\u6848https:/www.adobe.com/hk_zh/\\nAdobe\\uff1a\\u5275\\u610f\\u3001\\u884c\\u92b7\\u548c\\u6587\\u4ef6\\u7ba1\\u7406\\u89e3\\u6c7a\\u65b9\\u6848https:/www.adobe.com/hk_zh/\\nhttps://acrobat.adobe.com/hk/zh-Hant/acrobat/pdf-reader.html\\nhttps://www.adobe.com/hk_zh/products/catalog.html\\nhttps://helpx.adobe.com/hk_zh/download-install.html\\nhttps://www.adobe.com/tw/downloads.html\\n\\n\\nLuckily, we have the right language for the job: Python. \\n\\nNow, I\\u2019ve made my love for Python clear: It\\u2019s easily \\n\\nhuman-readable, it has a ton of awesome libraries that \\n\\nallow you to do basically anything. It\\u2019s the perfect tool in \\n\\nyour utility belt. As I\\u2019ve mentioned before, it makes you \\n\\nbatman. \\n\\n \\n\\nhttps://www.python.org/\\n\\n\",\n",
      "    \"metadata\": {\n",
      "        \"Author\": \"ElleryL\",\n",
      "        \"Content-Type\": \"application/pdf\",\n",
      "        \"Creation-Date\": \"2019-07-05T03:40:18Z\",\n",
      "        \"Last-Modified\": \"2019-07-05T03:40:18Z\",\n",
      "        \"Last-Save-Date\": \"2019-07-05T03:40:18Z\",\n",
      "        \"X-Parsed-By\": [\n",
      "            \"org.apache.tika.parser.DefaultParser\",\n",
      "            \"org.apache.tika.parser.pdf.PDFParser\"\n",
      "        ],\n",
      "        \"X-TIKA:parse_time_millis\": \"1306\",\n",
      "        \"access_permission:assemble_document\": \"true\",\n",
      "        \"access_permission:can_modify\": \"true\",\n",
      "        \"access_permission:can_print\": \"true\",\n",
      "        \"access_permission:can_print_degraded\": \"true\",\n",
      "        \"access_permission:extract_content\": \"true\",\n",
      "        \"access_permission:extract_for_accessibility\": \"true\",\n",
      "        \"access_permission:fill_in_form\": \"true\",\n",
      "        \"access_permission:modify_annotations\": \"true\",\n",
      "        \"created\": \"2019-07-05T03:40:18Z\",\n",
      "        \"creator\": \"ElleryL\",\n",
      "        \"date\": \"2019-07-05T03:40:18Z\",\n",
      "        \"dc:creator\": \"ElleryL\",\n",
      "        \"dc:format\": \"application/pdf; version=1.5\",\n",
      "        \"dc:language\": \"zh-HK\",\n",
      "        \"dcterms:created\": \"2019-07-05T03:40:18Z\",\n",
      "        \"dcterms:modified\": \"2019-07-05T03:40:18Z\",\n",
      "        \"language\": \"zh-HK\",\n",
      "        \"meta:author\": \"ElleryL\",\n",
      "        \"meta:creation-date\": \"2019-07-05T03:40:18Z\",\n",
      "        \"meta:save-date\": \"2019-07-05T03:40:18Z\",\n",
      "        \"modified\": \"2019-07-05T03:40:18Z\",\n",
      "        \"pdf:PDFVersion\": \"1.5\",\n",
      "        \"pdf:docinfo:created\": \"2019-07-05T03:40:18Z\",\n",
      "        \"pdf:docinfo:creator\": \"ElleryL\",\n",
      "        \"pdf:docinfo:creator_tool\": \"Microsoft\\u00ae Word 2010\",\n",
      "        \"pdf:docinfo:modified\": \"2019-07-05T03:40:18Z\",\n",
      "        \"pdf:docinfo:producer\": \"Microsoft\\u00ae Word 2010\",\n",
      "        \"pdf:encrypted\": \"false\",\n",
      "        \"producer\": \"Microsoft\\u00ae Word 2010\",\n",
      "        \"resourceName\": \"How to Extract Words from PDFs with Python.pdf\",\n",
      "        \"xmp:CreatorTool\": \"Microsoft\\u00ae Word 2010\",\n",
      "        \"xmpTPg:NPages\": \"2\"\n",
      "    }\n",
      "}\n"
     ]
    }
   ],
   "source": [
    "import json\n",
    "print(json.dumps(parsed, indent=4))"
   ]
  },
  {
   "cell_type": "markdown",
   "metadata": {},
   "source": [
    "### This is the PDF in terms of imaeg for easy reference:\n",
    "\n",
    "![Page 1](001.jpg)\n",
    "![Page 2](002.jpg)"
   ]
  },
  {
   "cell_type": "markdown",
   "metadata": {},
   "source": [
    "### Points to note:\n",
    "\n",
    "1. As you can see, the hyperlink is placed after text\n",
    "2. It did not show which link belongs to which text\n",
    "3. Chinese text is properly displayed\n",
    "4. Line break is mostly repsected, but not all"
   ]
  },
  {
   "cell_type": "code",
   "execution_count": null,
   "metadata": {},
   "outputs": [],
   "source": []
  }
 ],
 "metadata": {
  "kernelspec": {
   "display_name": "Python 3",
   "language": "python",
   "name": "python3"
  },
  "language_info": {
   "codemirror_mode": {
    "name": "ipython",
    "version": 3
   },
   "file_extension": ".py",
   "mimetype": "text/x-python",
   "name": "python",
   "nbconvert_exporter": "python",
   "pygments_lexer": "ipython3",
   "version": "3.6.8"
  }
 },
 "nbformat": 4,
 "nbformat_minor": 2
}
